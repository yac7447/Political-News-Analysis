{
 "cells": [
  {
   "cell_type": "markdown",
   "metadata": {},
   "source": [
    "#### Observe that we can get news of a day with the link format:\n",
    "https://news.ltn.com.tw/list/newspaper/politics/20190228\n",
    "#### We need a list of date string in the date range we want."
   ]
  },
  {
   "cell_type": "code",
   "execution_count": 1,
   "metadata": {},
   "outputs": [],
   "source": [
    "from datetime import datetime, timedelta\n",
    "\n",
    "start_date = \"2019-01-01\"\n",
    "stop_date = \"2019-02-28\"\n",
    "\n",
    "start = datetime.strptime(start_date, \"%Y-%m-%d\")\n",
    "stop = datetime.strptime(stop_date, \"%Y-%m-%d\")\n",
    "\n",
    "dates = list()\n",
    "while start <= stop:\n",
    "    dates.append(start.strftime('%Y%m%d'))\n",
    "    start = start + timedelta(days=1)\n"
   ]
  },
  {
   "cell_type": "markdown",
   "metadata": {},
   "source": [
    "#### Now write a function to parse the HTML response, return the data we want(title, content, ...etc)."
   ]
  },
  {
   "cell_type": "code",
   "execution_count": 2,
   "metadata": {},
   "outputs": [],
   "source": [
    "import requests\n",
    "from bs4 import BeautifulSoup as bs"
   ]
  },
  {
   "cell_type": "code",
   "execution_count": 3,
   "metadata": {},
   "outputs": [],
   "source": [
    "def process_document(document, date):\n",
    "    \n",
    "    nodes = document.select('ul.list > li')\n",
    "    data = list()\n",
    "\n",
    "    for li in nodes:\n",
    "\n",
    "        # check if is empty element\n",
    "        if li.select_one('a') == None:\n",
    "            continue\n",
    "\n",
    "        # get link\n",
    "        li_link = 'http://news.ltn.com.tw/' + li.select_one('a')['href']\n",
    "\n",
    "        # request for document\n",
    "        li_res = requests.get(li_link)\n",
    "        li_doc = bs(li_res.text, 'lxml')\n",
    "\n",
    "        # get date\n",
    "        li_date = datetime.strptime(date, \"%Y%m%d\").strftime('%Y-%m-%d')\n",
    "\n",
    "        #get title\n",
    "        li_title = li.select_one('p').get_text()\n",
    "\n",
    "        #get content\n",
    "        li_content = \"\"\n",
    "        for ele in li_doc.select('div.text > p'):\n",
    "            if not 'appE1121' in ele.get('class', []):\n",
    "                li_content += ele.get_text()\n",
    "\n",
    "        #get key words\n",
    "        li_keyword = li_doc.find(attrs={\"name\":\"keywords\"})['content']\n",
    "                \n",
    "        # append new row\n",
    "        data.append({\n",
    "            'date' : li_date,\n",
    "            'title': li_title,\n",
    "            'link' : li_link,\n",
    "            'content' : li_content,\n",
    "            'keywords' : li_keyword,\n",
    "            'tags' : []\n",
    "        })\n",
    "    return data"
   ]
  },
  {
   "cell_type": "markdown",
   "metadata": {},
   "source": [
    "#### Crawl over the news on the site, store the data in variable \"all_data\" ."
   ]
  },
  {
   "cell_type": "code",
   "execution_count": 4,
   "metadata": {},
   "outputs": [
    {
     "name": "stdout",
     "output_type": "stream",
     "text": [
      "start crawling : 20190101\n",
      "start crawling : 20190102\n",
      "start crawling : 20190103\n",
      "start crawling : 20190104\n",
      "start crawling : 20190105\n",
      "start crawling : 20190106\n",
      "start crawling : 20190107\n",
      "start crawling : 20190108\n",
      "start crawling : 20190109\n",
      "start crawling : 20190110\n",
      "start crawling : 20190111\n",
      "start crawling : 20190112\n",
      "start crawling : 20190113\n",
      "start crawling : 20190114\n",
      "start crawling : 20190115\n",
      "start crawling : 20190116\n",
      "start crawling : 20190117\n",
      "start crawling : 20190118\n",
      "start crawling : 20190119\n",
      "start crawling : 20190120\n",
      "start crawling : 20190121\n",
      "start crawling : 20190122\n",
      "start crawling : 20190123\n",
      "start crawling : 20190124\n",
      "start crawling : 20190125\n",
      "start crawling : 20190126\n",
      "start crawling : 20190127\n",
      "start crawling : 20190128\n",
      "start crawling : 20190129\n",
      "start crawling : 20190130\n",
      "start crawling : 20190131\n",
      "start crawling : 20190201\n",
      "start crawling : 20190202\n",
      "start crawling : 20190203\n",
      "start crawling : 20190204\n",
      "start crawling : 20190205\n",
      "start crawling : 20190206\n",
      "start crawling : 20190207\n",
      "start crawling : 20190208\n",
      "start crawling : 20190209\n",
      "start crawling : 20190210\n",
      "start crawling : 20190211\n",
      "start crawling : 20190212\n",
      "start crawling : 20190213\n",
      "start crawling : 20190214\n",
      "start crawling : 20190215\n",
      "start crawling : 20190216\n",
      "start crawling : 20190217\n",
      "start crawling : 20190218\n",
      "start crawling : 20190219\n",
      "start crawling : 20190220\n",
      "start crawling : 20190221\n",
      "start crawling : 20190222\n",
      "start crawling : 20190223\n",
      "start crawling : 20190224\n",
      "start crawling : 20190225\n",
      "start crawling : 20190226\n",
      "start crawling : 20190227\n",
      "start crawling : 20190228\n"
     ]
    }
   ],
   "source": [
    "cnt = 0\n",
    "all_data = list()\n",
    "for date in dates:\n",
    "    print('start crawling :', date)\n",
    "    res = requests.get('https://news.ltn.com.tw/list/newspaper/politics/' + date)\n",
    "    doc = bs(res.text, 'lxml')\n",
    "    data = process_document(doc, date)\n",
    "    all_data += data"
   ]
  },
  {
   "cell_type": "markdown",
   "metadata": {},
   "source": [
    "#### Check the result"
   ]
  },
  {
   "cell_type": "code",
   "execution_count": 5,
   "metadata": {},
   "outputs": [
    {
     "data": {
      "text/plain": [
       "[{'date': '2019-01-01',\n",
       "  'title': '台灣關係法邁入40週年 卜睿哲︰台美共同利益趨向一致',\n",
       "  'link': 'http://news.ltn.com.tw/news/politics/paper/1258169',\n",
       "  'content': '〔記者呂伊萱／台北報導〕「台灣關係法」今年邁入第四十週年。美國在台協會前理事主席、布魯金斯學會東北亞中心主任卜睿哲說，過去四十年，美台關係不只維繫、且擴大往好的方向發展，關鍵原因在於「華盛頓和台北的共同目標及利益趨向一致」，且雙方溝通一步步改善。一九七八年十二月廿五日，美國前總統卡特突然宣布，將於一九七九年元月起正式承認中共為中國唯一合法政府，並終止與中華民國的外交關係，美國國務院隔兩天便迅速派遣龐大代表團到台北，會商雙方未來關係的新運作模式。美國行政部門在一九七九年元月底，向國會提出台灣「綜合法案」，該案在國會飽受批評，因許多議員認為卡特政府急於正常化，屈從中共建交條件。總統為了保密，甚至未與國會諮商，便逕行達成協議，有傷國會自尊心；且「綜合法案」內容漏洞百出，當時的參議院外委會主席邱池曾直批，綜合法案的最大敗筆就是「未能提供美國官方對台灣安全的政策聲明」。美國國會因此迅即著手立法，以「維持西太平洋和平、安全與穩定」為主旨，最後授權成立美國在台協會，以繼續維持美國人民與台灣人民間的商業、文化及其他關係。歷經多次聽證會，議員來回磋商與協調，充實法案架構，增訂保證對台灣安全關切的「政策宣言及安全條款」等內容後，支持雙方關係的「台灣關係法」於焉誕生，卡特並於同年四月簽署完成立法，生效日期回溯至一月一日，成為台美關係基石。回顧歷來台美關係發展，卜睿哲於一九九七年到二○○二年間擔任AIT主席，他以個人的第一線經歷舉例說，一九九○年代中期開始，美台關係不只維繫、而且擴大，「台灣人民可能沒有意識到，美國是如何透過行動支持台灣。」卜睿哲說，例如，如果沒有柯林頓政府的倡議，台灣今天就不會是世界貿易組織（WTO）的一員。查諸歷史，二○○○年時中國將WTO入會案與「一中原則」和台灣問題掛鉤，美國總統柯林頓當時明言表示反對，並強調台灣和中國應在同一會期加入WTO，如果中國主張台灣是中華人民共和國的單獨關稅領域，美國不會接受。卜睿哲說，美台關係在過去四十年間不但改變許多，且是變得更好。而隨著時間遞嬗，美台關係產生變化，他認為關鍵原因在於「華盛頓和台北的共同目標及利益趨向一致」，且雙邊溝通也改善許多，使雙邊關係逐漸走向積極發展。',\n",
       "  'keywords': '台美關係,臺灣關係法,自由時報, 自由電子報, 自由時報電子報, Liberty Times Net, LTN',\n",
       "  'tags': []},\n",
       " {'date': '2019-01-01',\n",
       "  'title': '自由充電站》台灣關係法 斷交後台美互動基石',\n",
       "  'link': 'http://news.ltn.com.tw/news/politics/paper/1258170',\n",
       "  'content': '《台灣關係法（Taiwan Relations Act, TRA）》是一部現行的美國國內法。一九七九年一月一日，美國與中華民國正式斷交，轉而承認中華人民共和國政府。美國會因此制定此法，並由美國總統卡特於四月簽署生效，生效日期回溯至一月一日，以規範往後的美國與台灣關係。TRA授權美國人民與台灣人民之間維繫商務、文化及其他關係，而為協助維持西太平洋的和平、安全與穩定，美國將使台灣獲得足夠維持自衛能力的物資與技術。TRA也規定美國總統或各政府機關與台灣有關的任何計畫或活動，應透過AIT執行。（記者呂伊萱）',\n",
       "  'keywords': '台灣關係法,自由時報, 自由電子報, 自由時報電子報, Liberty Times Net, LTN',\n",
       "  'tags': []},\n",
       " {'date': '2019-01-01',\n",
       "  'title': '第一代AIT官員》促進台美相互理解 艾文智畢生志業',\n",
       "  'link': 'http://news.ltn.com.tw/news/politics/paper/1258171',\n",
       "  'content': '〔記者呂伊萱／台北報導〕艾文智（Brian Evans）是第一代美國在台協會（AIT）官員，於一九七九年派駐台灣，但他對台灣的初印象始於一九六二年八月，當時九歲的艾文智隨美軍父親抵達台灣基隆。他說，當時台灣人似乎因為「外國人」而神色緊張，他當時心想，這是不對的，「因為這裡是你們的家，我們是作客的人。」那一天他就決定了，將促進彼此理解視為職志。艾文智的父親是美國海軍陸戰隊軍官，二戰時期派駐中國青島與上海，也曾參與韓戰，一九六二年時派駐高雄左營海軍基地擔任顧問，一家人在台灣停留到一九六五年。艾文智在台灣度過小學四到六年級，很快地愛上了這塊土地。他當時參加美國童子軍，有許多機會和台灣童子軍交流，例如時常一起舉辦棒球友誼賽。艾文智回憶，當時台灣的朋友不太熟悉比賽規則，教練總是提醒他們保持禮貌，即使發生犯規情形，也不要讓台灣的朋友們沮喪。他笑說，台灣的小朋友們都學得很快，「沒幾年就成了世界冠軍呢！」艾文智也與小時候照顧他的保母一直保持聯繫，「美好回憶真的很多」，讓他下定決心「一定要回來」，而且要做為「美國人民的代表」回到台灣，他以外交官為目標努力，最後終於在一九七九年派駐台灣。當時從語言訓練到所有事前準備，都是為了美國大使館和駐軍支援服務，「但當我抵達的時候這些都沒有了」，相較於來自美國的支援，他們更依賴台灣的待客之道。他樂觀地說，這也是好的，因為「更拉近和台灣的距離」。艾文智於一九七九年到一九八一年分別派駐AIT台北與高雄，後也延長一年進修中文和粵語，在台服務時大女兒出生，更深化他對台灣的情感，大女兒現在也任職於AIT。艾文智說，雙邊關係中最重要的是本質，美國人民與台灣人民之間的連結十分緊密，他對美台的下一個四十年也充滿信心。',\n",
       "  'keywords': 'AIT,台美關係,自由時報, 自由電子報, 自由時報電子報, Liberty Times Net, LTN',\n",
       "  'tags': []},\n",
       " {'date': '2019-01-01',\n",
       "  'title': '練半個月 賴揆長子婚禮飆舞',\n",
       "  'link': 'http://news.ltn.com.tw/news/politics/paper/1258172',\n",
       "  'content': '行政院長賴清德長子賴廷與前天迎娶學妹陳筱依，小兩口兒在婚宴上二度進場時，隨著韓國男團SUPER JUNIOR-M的歌曲Super Girl跳舞進場，展現十足的默契，全場氣氛也為之沸騰。親友團透露，兩人為了這一次的舞蹈練習了半個月左右，事前參加婚宴的賓客都不知道會有這一段表演，但都感受到年輕人的活潑。賴廷與從小就能動能靜，成功大學電機系畢業後赴美進修，目前在美國華盛頓大學攻讀生物工程博士，在美認識小他兩歲的學妹陳筱依，元月初將回美國繼續完成學業。（圖：截自網路，文：記者劉婉君）',\n",
       "  'keywords': '賴廷,賴清德,陳筱依,自由時報, 自由電子報, 自由時報電子報, Liberty Times Net, LTN',\n",
       "  'tags': []},\n",
       " {'date': '2019-01-01',\n",
       "  'title': '福建省政府 吹熄燈號',\n",
       "  'link': 'http://news.ltn.com.tw/news/politics/paper/1258173',\n",
       "  'content': '〔記者吳正庭、佟振國／綜合報導〕福建省政府因應「去任務化」，昨天結束業務，正式吹熄燈號；原有員工廿二人自去年六月起陸續優退或移撥至其他機關，僅保留六人移至行政院「金馬聯合服務中心」繼續辦公。「金馬聯合服務中心」參議陳永富說，福建省政府因應「去任務化」及二○一九年起不再編列預算，昨天正式劃下句點。由於省府是憲政機關，非修憲不得廢除，因此其名銜仍存在，但實際不再運作。至於台灣省政府所在地南投市中興新村，全盛時期員工共六千多人，但歷經一九九九年七月精省，至去年六月底實際員額僅剩廿九人，並於七月一日起預算、員額正式歸零，業務、員額由國發會概括承受。國發會也利用原省府大樓成立「中興新村活化專案辦公室」，國發會主委陳美伶強調，希望讓中興新村穩健活化，不會畫大餅做大建設，更保證這次「不會再狼來了」。',\n",
       "  'keywords': '福建省政府,自由時報, 自由電子報, 自由時報電子報, Liberty Times Net, LTN',\n",
       "  'tags': []}]"
      ]
     },
     "execution_count": 5,
     "metadata": {},
     "output_type": "execute_result"
    }
   ],
   "source": [
    "all_data[0:5]"
   ]
  },
  {
   "cell_type": "markdown",
   "metadata": {},
   "source": [
    "#### Save as pkl file"
   ]
  },
  {
   "cell_type": "code",
   "execution_count": 6,
   "metadata": {},
   "outputs": [],
   "source": [
    "import pickle\n",
    "\n",
    "with open('data/liberty_times.pkl', 'wb') as f:\n",
    "    pickle.dump(all_data, f)"
   ]
  },
  {
   "cell_type": "markdown",
   "metadata": {},
   "source": [
    "#### Turn it into pandas dataframe"
   ]
  },
  {
   "cell_type": "code",
   "execution_count": 7,
   "metadata": {},
   "outputs": [
    {
     "data": {
      "text/html": [
       "<div>\n",
       "<style scoped>\n",
       "    .dataframe tbody tr th:only-of-type {\n",
       "        vertical-align: middle;\n",
       "    }\n",
       "\n",
       "    .dataframe tbody tr th {\n",
       "        vertical-align: top;\n",
       "    }\n",
       "\n",
       "    .dataframe thead th {\n",
       "        text-align: right;\n",
       "    }\n",
       "</style>\n",
       "<table border=\"1\" class=\"dataframe\">\n",
       "  <thead>\n",
       "    <tr style=\"text-align: right;\">\n",
       "      <th></th>\n",
       "      <th>date</th>\n",
       "      <th>title</th>\n",
       "      <th>link</th>\n",
       "      <th>content</th>\n",
       "      <th>keywords</th>\n",
       "      <th>tags</th>\n",
       "    </tr>\n",
       "  </thead>\n",
       "  <tbody>\n",
       "    <tr>\n",
       "      <th>0</th>\n",
       "      <td>2019-01-01</td>\n",
       "      <td>台灣關係法邁入40週年 卜睿哲︰台美共同利益趨向一致</td>\n",
       "      <td>http://news.ltn.com.tw/news/politics/paper/125...</td>\n",
       "      <td>〔記者呂伊萱／台北報導〕「台灣關係法」今年邁入第四十週年。美國在台協會前理事主席、布魯金斯學...</td>\n",
       "      <td>台美關係,臺灣關係法,自由時報, 自由電子報, 自由時報電子報, Liberty Times...</td>\n",
       "      <td>[]</td>\n",
       "    </tr>\n",
       "    <tr>\n",
       "      <th>1</th>\n",
       "      <td>2019-01-01</td>\n",
       "      <td>自由充電站》台灣關係法 斷交後台美互動基石</td>\n",
       "      <td>http://news.ltn.com.tw/news/politics/paper/125...</td>\n",
       "      <td>《台灣關係法（Taiwan Relations Act, TRA）》是一部現行的美國國內法。...</td>\n",
       "      <td>台灣關係法,自由時報, 自由電子報, 自由時報電子報, Liberty Times Net,...</td>\n",
       "      <td>[]</td>\n",
       "    </tr>\n",
       "    <tr>\n",
       "      <th>2</th>\n",
       "      <td>2019-01-01</td>\n",
       "      <td>第一代AIT官員》促進台美相互理解 艾文智畢生志業</td>\n",
       "      <td>http://news.ltn.com.tw/news/politics/paper/125...</td>\n",
       "      <td>〔記者呂伊萱／台北報導〕艾文智（Brian Evans）是第一代美國在台協會（AIT）官員，...</td>\n",
       "      <td>AIT,台美關係,自由時報, 自由電子報, 自由時報電子報, Liberty Times N...</td>\n",
       "      <td>[]</td>\n",
       "    </tr>\n",
       "    <tr>\n",
       "      <th>3</th>\n",
       "      <td>2019-01-01</td>\n",
       "      <td>練半個月 賴揆長子婚禮飆舞</td>\n",
       "      <td>http://news.ltn.com.tw/news/politics/paper/125...</td>\n",
       "      <td>行政院長賴清德長子賴廷與前天迎娶學妹陳筱依，小兩口兒在婚宴上二度進場時，隨著韓國男團SUPE...</td>\n",
       "      <td>賴廷,賴清德,陳筱依,自由時報, 自由電子報, 自由時報電子報, Liberty Times...</td>\n",
       "      <td>[]</td>\n",
       "    </tr>\n",
       "    <tr>\n",
       "      <th>4</th>\n",
       "      <td>2019-01-01</td>\n",
       "      <td>福建省政府 吹熄燈號</td>\n",
       "      <td>http://news.ltn.com.tw/news/politics/paper/125...</td>\n",
       "      <td>〔記者吳正庭、佟振國／綜合報導〕福建省政府因應「去任務化」，昨天結束業務，正式吹熄燈號；原有...</td>\n",
       "      <td>福建省政府,自由時報, 自由電子報, 自由時報電子報, Liberty Times Net,...</td>\n",
       "      <td>[]</td>\n",
       "    </tr>\n",
       "  </tbody>\n",
       "</table>\n",
       "</div>"
      ],
      "text/plain": [
       "         date                       title  \\\n",
       "0  2019-01-01  台灣關係法邁入40週年 卜睿哲︰台美共同利益趨向一致   \n",
       "1  2019-01-01       自由充電站》台灣關係法 斷交後台美互動基石   \n",
       "2  2019-01-01   第一代AIT官員》促進台美相互理解 艾文智畢生志業   \n",
       "3  2019-01-01               練半個月 賴揆長子婚禮飆舞   \n",
       "4  2019-01-01                  福建省政府 吹熄燈號   \n",
       "\n",
       "                                                link  \\\n",
       "0  http://news.ltn.com.tw/news/politics/paper/125...   \n",
       "1  http://news.ltn.com.tw/news/politics/paper/125...   \n",
       "2  http://news.ltn.com.tw/news/politics/paper/125...   \n",
       "3  http://news.ltn.com.tw/news/politics/paper/125...   \n",
       "4  http://news.ltn.com.tw/news/politics/paper/125...   \n",
       "\n",
       "                                             content  \\\n",
       "0  〔記者呂伊萱／台北報導〕「台灣關係法」今年邁入第四十週年。美國在台協會前理事主席、布魯金斯學...   \n",
       "1  《台灣關係法（Taiwan Relations Act, TRA）》是一部現行的美國國內法。...   \n",
       "2  〔記者呂伊萱／台北報導〕艾文智（Brian Evans）是第一代美國在台協會（AIT）官員，...   \n",
       "3  行政院長賴清德長子賴廷與前天迎娶學妹陳筱依，小兩口兒在婚宴上二度進場時，隨著韓國男團SUPE...   \n",
       "4  〔記者吳正庭、佟振國／綜合報導〕福建省政府因應「去任務化」，昨天結束業務，正式吹熄燈號；原有...   \n",
       "\n",
       "                                            keywords tags  \n",
       "0  台美關係,臺灣關係法,自由時報, 自由電子報, 自由時報電子報, Liberty Times...   []  \n",
       "1  台灣關係法,自由時報, 自由電子報, 自由時報電子報, Liberty Times Net,...   []  \n",
       "2  AIT,台美關係,自由時報, 自由電子報, 自由時報電子報, Liberty Times N...   []  \n",
       "3  賴廷,賴清德,陳筱依,自由時報, 自由電子報, 自由時報電子報, Liberty Times...   []  \n",
       "4  福建省政府,自由時報, 自由電子報, 自由時報電子報, Liberty Times Net,...   []  "
      ]
     },
     "execution_count": 7,
     "metadata": {},
     "output_type": "execute_result"
    }
   ],
   "source": [
    "import pandas as pd\n",
    "pd.DataFrame(all_data)[['date', 'title', 'link', 'content','keywords', 'tags']].head()"
   ]
  }
 ],
 "metadata": {
  "kernelspec": {
   "display_name": "Python 3",
   "language": "python",
   "name": "python3"
  },
  "language_info": {
   "codemirror_mode": {
    "name": "ipython",
    "version": 3
   },
   "file_extension": ".py",
   "mimetype": "text/x-python",
   "name": "python",
   "nbconvert_exporter": "python",
   "pygments_lexer": "ipython3",
   "version": "3.7.1"
  }
 },
 "nbformat": 4,
 "nbformat_minor": 2
}
